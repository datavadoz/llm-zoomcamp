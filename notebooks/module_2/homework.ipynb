{
 "cells": [
  {
   "cell_type": "markdown",
   "id": "659ff4d9-eb08-43b3-9d0d-4dfab060182f",
   "metadata": {},
   "source": [
    "# Q1. Embedding the query\n",
    "\n",
    "Embed the query: `'I just discovered the course. Can I join now?'`. Use the `'jinaai/jina-embeddings-v2-small-en'` model.\n",
    "\n",
    "You should get a numpy array of size 512.\n",
    "\n",
    "What's the minimal value in this array?\n",
    "- -0.51\n",
    "- -0.11\n",
    "- 0\n",
    "- 0.51"
   ]
  },
  {
   "cell_type": "code",
   "execution_count": 1,
   "id": "79444df2-0fbd-49d1-987f-4baefa91614d",
   "metadata": {},
   "outputs": [
    {
     "data": {
      "text/plain": [
       "np.float64(-0.11726372517101391)"
      ]
     },
     "execution_count": 1,
     "metadata": {},
     "output_type": "execute_result"
    }
   ],
   "source": [
    "from fastembed import TextEmbedding\n",
    "\n",
    "documents = ['I just discovered the course. Can I join now?']\n",
    "model = TextEmbedding(model_name='jinaai/jina-embeddings-v2-small-en')\n",
    "embeddings_list = list(model.embed(documents))\n",
    "min(embeddings_list[0])"
   ]
  },
  {
   "cell_type": "markdown",
   "id": "0ebd7ffb-64c5-4cb5-a96c-a23207fa9075",
   "metadata": {},
   "source": [
    "**Answer:** `-0.11`"
   ]
  },
  {
   "cell_type": "markdown",
   "id": "4d27f942-33c0-4631-a7b6-fa1b939bf536",
   "metadata": {},
   "source": [
    "## Cosine similarity\n",
    "\n",
    "The vectors that our embedding model returns are already normalized: their length is 1.0.\n",
    "\n",
    "You can check that by using the `norm` function:\n",
    "\n",
    "```python\n",
    "import numpy as np\n",
    "np.linalg.norm(q)\n",
    "```\n",
    "\n",
    "Which means that we can simply compute the dot product between two vectors to learn the cosine similarity between them.\n",
    "\n",
    "For example, if you compute the cosine of the query vector with itself, the result will be 1.0:\n",
    "```python\n",
    "q.dot(q)\n",
    "```"
   ]
  },
  {
   "cell_type": "markdown",
   "id": "ca7559d6-4a95-49fe-bba5-e2183e247bb2",
   "metadata": {},
   "source": [
    "___\n"
   ]
  },
  {
   "cell_type": "markdown",
   "id": "4d9d9af3-a60e-440c-b0aa-40e1e833b236",
   "metadata": {},
   "source": [
    "# Q2. Cosine similarity with another vector\n",
    "\n",
    "Now let's embed this document:\n",
    "```\n",
    "doc = 'Can I still join the course after the start date?'\n",
    "```\n",
    "\n",
    "What's the cosine similarity between the vector for the query and the vector for the document?\n",
    "- 0.3\n",
    "- 0.5\n",
    "- 0.7\n",
    "- 0.9"
   ]
  },
  {
   "cell_type": "code",
   "execution_count": 2,
   "id": "b132ba25-d1a6-405f-a981-f09dee427d16",
   "metadata": {},
   "outputs": [
    {
     "data": {
      "text/plain": [
       "np.float64(0.9008529111486461)"
      ]
     },
     "execution_count": 2,
     "metadata": {},
     "output_type": "execute_result"
    }
   ],
   "source": [
    "documents = [\n",
    "    'I just discovered the course. Can I join now?',\n",
    "    'Can I still join the course after the start date?'\n",
    "]\n",
    "vectors = list(model.embed(documents))\n",
    "vectors[0].dot(vectors[1])"
   ]
  },
  {
   "cell_type": "markdown",
   "id": "e9aa40fa-75ad-4d9a-8a8e-f37911a65686",
   "metadata": {},
   "source": [
    "**Answer:** `0.9`"
   ]
  },
  {
   "cell_type": "markdown",
   "id": "9db8bf31-299e-4d2f-9138-5c5564d328aa",
   "metadata": {},
   "source": [
    "---"
   ]
  },
  {
   "cell_type": "markdown",
   "id": "d217cb4b-236a-4809-8259-611db8e42287",
   "metadata": {},
   "source": [
    "# Q3. Ranking by cosine\n",
    "\n",
    "For Q3 and Q4 we will use these documents:\n",
    "```python\n",
    "documents = [{'text': \"Yes, even if you don't register, you're still eligible to submit the homeworks.\\nBe aware, however, that there will be deadlines for turning in the final projects. So don't leave everything for the last minute.\",\n",
    "  'section': 'General course-related questions',\n",
    "  'question': 'Course - Can I still join the course after the start date?',\n",
    "  'course': 'data-engineering-zoomcamp'},\n",
    " {'text': 'Yes, we will keep all the materials after the course finishes, so you can follow the course at your own pace after it finishes.\\nYou can also continue looking at the homeworks and continue preparing for the next cohort. I guess you can also start working on your final capstone project.',\n",
    "  'section': 'General course-related questions',\n",
    "  'question': 'Course - Can I follow the course after it finishes?',\n",
    "  'course': 'data-engineering-zoomcamp'},\n",
    " {'text': \"The purpose of this document is to capture frequently asked technical questions\\nThe exact day and hour of the course will be 15th Jan 2024 at 17h00. The course will start with the first  “Office Hours'' live.1\\nSubscribe to course public Google Calendar (it works from Desktop only).\\nRegister before the course starts using this link.\\nJoin the course Telegram channel with announcements.\\nDon’t forget to register in DataTalks.Club's Slack and join the channel.\",\n",
    "  'section': 'General course-related questions',\n",
    "  'question': 'Course - When will the course start?',\n",
    "  'course': 'data-engineering-zoomcamp'},\n",
    " {'text': 'You can start by installing and setting up all the dependencies and requirements:\\nGoogle cloud account\\nGoogle Cloud SDK\\nPython 3 (installed with Anaconda)\\nTerraform\\nGit\\nLook over the prerequisites and syllabus to see if you are comfortable with these subjects.',\n",
    "  'section': 'General course-related questions',\n",
    "  'question': 'Course - What can I do before the course starts?',\n",
    "  'course': 'data-engineering-zoomcamp'},\n",
    " {'text': 'Star the repo! Share it with friends if you find it useful ❣️\\nCreate a PR if you see you can improve the text or the structure of the repository.',\n",
    "  'section': 'General course-related questions',\n",
    "  'question': 'How can we contribute to the course?',\n",
    "  'course': 'data-engineering-zoomcamp'}]\n",
    "```\n",
    "\n",
    "Compute the embeddings for the text field, and compute the cosine between the query vector and all the documents.\n",
    "\n",
    "What's the document index with the highest similarity? (Indexing starts from 0):\n",
    "\n",
    "- 0\n",
    "- 1\n",
    "- 2\n",
    "- 3\n",
    "- 4"
   ]
  },
  {
   "cell_type": "code",
   "execution_count": 9,
   "id": "8bb14136-2d58-4b41-889a-5e963d17a5e2",
   "metadata": {},
   "outputs": [
    {
     "data": {
      "text/plain": [
       "[np.float64(0.7629684779447995),\n",
       " np.float64(0.8182378328589502),\n",
       " np.float64(0.8085397403172203),\n",
       " np.float64(0.7133078762855278),\n",
       " np.float64(0.7304499352679792)]"
      ]
     },
     "execution_count": 9,
     "metadata": {},
     "output_type": "execute_result"
    }
   ],
   "source": [
    "base_doc = ['I just discovered the course. Can I join now?']\n",
    "base_vector = list(model.embed(base_doc))[0]\n",
    "\n",
    "other_docs = [{'text': \"Yes, even if you don't register, you're still eligible to submit the homeworks.\\nBe aware, however, that there will be deadlines for turning in the final projects. So don't leave everything for the last minute.\",\n",
    "  'section': 'General course-related questions',\n",
    "  'question': 'Course - Can I still join the course after the start date?',\n",
    "  'course': 'data-engineering-zoomcamp'},\n",
    " {'text': 'Yes, we will keep all the materials after the course finishes, so you can follow the course at your own pace after it finishes.\\nYou can also continue looking at the homeworks and continue preparing for the next cohort. I guess you can also start working on your final capstone project.',\n",
    "  'section': 'General course-related questions',\n",
    "  'question': 'Course - Can I follow the course after it finishes?',\n",
    "  'course': 'data-engineering-zoomcamp'},\n",
    " {'text': \"The purpose of this document is to capture frequently asked technical questions\\nThe exact day and hour of the course will be 15th Jan 2024 at 17h00. The course will start with the first  “Office Hours'' live.1\\nSubscribe to course public Google Calendar (it works from Desktop only).\\nRegister before the course starts using this link.\\nJoin the course Telegram channel with announcements.\\nDon’t forget to register in DataTalks.Club's Slack and join the channel.\",\n",
    "  'section': 'General course-related questions',\n",
    "  'question': 'Course - When will the course start?',\n",
    "  'course': 'data-engineering-zoomcamp'},\n",
    " {'text': 'You can start by installing and setting up all the dependencies and requirements:\\nGoogle cloud account\\nGoogle Cloud SDK\\nPython 3 (installed with Anaconda)\\nTerraform\\nGit\\nLook over the prerequisites and syllabus to see if you are comfortable with these subjects.',\n",
    "  'section': 'General course-related questions',\n",
    "  'question': 'Course - What can I do before the course starts?',\n",
    "  'course': 'data-engineering-zoomcamp'},\n",
    " {'text': 'Star the repo! Share it with friends if you find it useful ❣️\\nCreate a PR if you see you can improve the text or the structure of the repository.',\n",
    "  'section': 'General course-related questions',\n",
    "  'question': 'How can we contribute to the course?',\n",
    "  'course': 'data-engineering-zoomcamp'}]\n",
    "\n",
    "other_docs = [doc['text'] for doc in other_docs]\n",
    "other_vectors = list(model.embed(other_docs))\n",
    "[base_vector.dot(other_vector) for other_vector in other_vectors]"
   ]
  },
  {
   "cell_type": "markdown",
   "id": "1436a7ad-c25f-4550-995b-f7cee85ef6cf",
   "metadata": {},
   "source": [
    "**Answer:** `1`"
   ]
  },
  {
   "cell_type": "markdown",
   "id": "37a7ddaf-a270-456b-8312-6204e9925fb9",
   "metadata": {},
   "source": [
    "---"
   ]
  },
  {
   "cell_type": "markdown",
   "id": "8558f21a-8a08-426b-95c7-ff08e179be64",
   "metadata": {},
   "source": [
    "# Q4. Ranking by cosine, version two\n",
    "\n",
    "Now let's calculate a new field, which is a concatenation of `question` and `text`:\n",
    "```\n",
    "full_text = doc['question'] + ' ' + doc['text']\n",
    "```\n",
    "\n",
    "Embed this field and compute the cosine between it and the query vector. What's the highest scoring document?\n",
    "- 0\n",
    "- 1\n",
    "- 2\n",
    "- 3\n",
    "- 4\n",
    "\n",
    "Is it different from Q3? If yes, why?"
   ]
  },
  {
   "cell_type": "code",
   "execution_count": 12,
   "id": "ee0a7c48-fcff-45a2-833b-ccdcaa94a92e",
   "metadata": {},
   "outputs": [
    {
     "data": {
      "text/plain": [
       "[np.float64(0.8514543367988866),\n",
       " np.float64(0.8436594295942044),\n",
       " np.float64(0.8408287244127188),\n",
       " np.float64(0.7755157723274342),\n",
       " np.float64(0.8086008208120041)]"
      ]
     },
     "execution_count": 12,
     "metadata": {},
     "output_type": "execute_result"
    }
   ],
   "source": [
    "base_doc = ['I just discovered the course. Can I join now?']\n",
    "base_vector = list(model.embed(base_doc))[0]\n",
    "\n",
    "other_docs = [{'text': \"Yes, even if you don't register, you're still eligible to submit the homeworks.\\nBe aware, however, that there will be deadlines for turning in the final projects. So don't leave everything for the last minute.\",\n",
    "  'section': 'General course-related questions',\n",
    "  'question': 'Course - Can I still join the course after the start date?',\n",
    "  'course': 'data-engineering-zoomcamp'},\n",
    " {'text': 'Yes, we will keep all the materials after the course finishes, so you can follow the course at your own pace after it finishes.\\nYou can also continue looking at the homeworks and continue preparing for the next cohort. I guess you can also start working on your final capstone project.',\n",
    "  'section': 'General course-related questions',\n",
    "  'question': 'Course - Can I follow the course after it finishes?',\n",
    "  'course': 'data-engineering-zoomcamp'},\n",
    " {'text': \"The purpose of this document is to capture frequently asked technical questions\\nThe exact day and hour of the course will be 15th Jan 2024 at 17h00. The course will start with the first  “Office Hours'' live.1\\nSubscribe to course public Google Calendar (it works from Desktop only).\\nRegister before the course starts using this link.\\nJoin the course Telegram channel with announcements.\\nDon’t forget to register in DataTalks.Club's Slack and join the channel.\",\n",
    "  'section': 'General course-related questions',\n",
    "  'question': 'Course - When will the course start?',\n",
    "  'course': 'data-engineering-zoomcamp'},\n",
    " {'text': 'You can start by installing and setting up all the dependencies and requirements:\\nGoogle cloud account\\nGoogle Cloud SDK\\nPython 3 (installed with Anaconda)\\nTerraform\\nGit\\nLook over the prerequisites and syllabus to see if you are comfortable with these subjects.',\n",
    "  'section': 'General course-related questions',\n",
    "  'question': 'Course - What can I do before the course starts?',\n",
    "  'course': 'data-engineering-zoomcamp'},\n",
    " {'text': 'Star the repo! Share it with friends if you find it useful ❣️\\nCreate a PR if you see you can improve the text or the structure of the repository.',\n",
    "  'section': 'General course-related questions',\n",
    "  'question': 'How can we contribute to the course?',\n",
    "  'course': 'data-engineering-zoomcamp'}]\n",
    "\n",
    "other_docs = [doc['question'] + ' ' + doc['text'] for doc in other_docs]\n",
    "other_vectors = list(model.embed(other_docs))\n",
    "[base_vector.dot(other_vector) for other_vector in other_vectors]"
   ]
  },
  {
   "cell_type": "markdown",
   "id": "f5be0ebe-0b0f-4d5d-a21d-f773c9aaa542",
   "metadata": {},
   "source": [
    "**Answer:** `0`\n",
    "It is different from Q3 because the data has been enriched by its question. It increases the accuracy."
   ]
  },
  {
   "cell_type": "markdown",
   "id": "7e9f6f4d-d558-4eda-94cd-30785cb8d241",
   "metadata": {},
   "source": [
    "---"
   ]
  },
  {
   "cell_type": "markdown",
   "id": "7586d322-f0cd-48df-a169-67bbc12cae3e",
   "metadata": {},
   "source": [
    "# Q5. Selecting the embedding model\n",
    "\n",
    "Now let's select a smaller embedding model. What's the smallest dimensionality for models in fastembed?\n",
    "- 128\n",
    "- 256\n",
    "- 384\n",
    "- 512\n",
    "\n",
    "One of these models is `BAAI/bge-small-en`. Let's use it."
   ]
  },
  {
   "cell_type": "code",
   "execution_count": 17,
   "id": "8a83de5a-3244-4f85-bf12-7c697f206309",
   "metadata": {},
   "outputs": [
    {
     "data": {
      "text/plain": [
       "384"
      ]
     },
     "execution_count": 17,
     "metadata": {},
     "output_type": "execute_result"
    }
   ],
   "source": [
    "from fastembed import TextEmbedding\n",
    "min([model['dim'] for model in TextEmbedding.list_supported_models()])"
   ]
  },
  {
   "cell_type": "markdown",
   "id": "0c00e678-8163-4873-b921-3b4ca6495cc3",
   "metadata": {},
   "source": [
    "**Answer:**: `384`"
   ]
  },
  {
   "cell_type": "markdown",
   "id": "49e94e67-94f9-4342-96d7-d9caaaece110",
   "metadata": {},
   "source": [
    "---"
   ]
  },
  {
   "cell_type": "markdown",
   "id": "3c9284d5-0128-4e0c-a934-8f88a3511ba2",
   "metadata": {},
   "source": [
    "# Q6. Indexing with qdrant\n",
    "\n",
    "For the last question, we will use more documents.\n",
    "\n",
    "We will select only FAQ records from our ml zoomcamp:\n",
    "\n",
    "```python\n",
    "import requests \n",
    "\n",
    "docs_url = 'https://github.com/alexeygrigorev/llm-rag-workshop/raw/main/notebooks/documents.json'\n",
    "docs_response = requests.get(docs_url)\n",
    "documents_raw = docs_response.json()\n",
    "\n",
    "\n",
    "documents = []\n",
    "\n",
    "for course in documents_raw:\n",
    "    course_name = course['course']\n",
    "    if course_name != 'machine-learning-zoomcamp':\n",
    "        continue\n",
    "\n",
    "    for doc in course['documents']:\n",
    "        doc['course'] = course_name\n",
    "        documents.append(doc)\n",
    "```\n",
    "\n",
    "Add them to qdrant using the model from Q5.\n",
    "\n",
    "When adding the data, use both question and answer fields:\n",
    "\n",
    "```python\n",
    "text = doc['question'] + ' ' + doc['text']\n",
    "```\n",
    "\n",
    "After the data is inserted, use the question from Q1 for querying the collection.\n",
    "\n",
    "What's the highest score in the results? (The score for the first returned record):\n",
    "\n",
    "- 0.97\n",
    "- 0.87\n",
    "- 0.77\n",
    "- 0.67\n",
    "\n"
   ]
  },
  {
   "cell_type": "code",
   "execution_count": 26,
   "id": "b396e10a-6ffd-4ddc-a850-771f0e7361a3",
   "metadata": {},
   "outputs": [
    {
     "data": {
      "application/vnd.jupyter.widget-view+json": {
       "model_id": "622d8a5807e448e9bf87e6c9d2c8e653",
       "version_major": 2,
       "version_minor": 0
      },
      "text/plain": [
       "Fetching 5 files:   0%|          | 0/5 [00:00<?, ?it/s]"
      ]
     },
     "metadata": {},
     "output_type": "display_data"
    },
    {
     "data": {
      "application/vnd.jupyter.widget-view+json": {
       "model_id": "a91a4f44ace04c6588cde0b13296fe4c",
       "version_major": 2,
       "version_minor": 0
      },
      "text/plain": [
       "tokenizer.json: 0.00B [00:00, ?B/s]"
      ]
     },
     "metadata": {},
     "output_type": "display_data"
    },
    {
     "data": {
      "application/vnd.jupyter.widget-view+json": {
       "model_id": "50510a9c001a48b493ceafce6405d27b",
       "version_major": 2,
       "version_minor": 0
      },
      "text/plain": [
       "config.json:   0%|          | 0.00/701 [00:00<?, ?B/s]"
      ]
     },
     "metadata": {},
     "output_type": "display_data"
    },
    {
     "data": {
      "application/vnd.jupyter.widget-view+json": {
       "model_id": "6d49027cdff54d76aebb9cc31ce28718",
       "version_major": 2,
       "version_minor": 0
      },
      "text/plain": [
       "tokenizer_config.json:   0%|          | 0.00/366 [00:00<?, ?B/s]"
      ]
     },
     "metadata": {},
     "output_type": "display_data"
    },
    {
     "data": {
      "application/vnd.jupyter.widget-view+json": {
       "model_id": "b30f1c707d204a87a9cd74e56e8a1ebd",
       "version_major": 2,
       "version_minor": 0
      },
      "text/plain": [
       "model_optimized.onnx:   0%|          | 0.00/133M [00:00<?, ?B/s]"
      ]
     },
     "metadata": {},
     "output_type": "display_data"
    },
    {
     "data": {
      "application/vnd.jupyter.widget-view+json": {
       "model_id": "d083ea2d374447ffbda5f25c1888c901",
       "version_major": 2,
       "version_minor": 0
      },
      "text/plain": [
       "special_tokens_map.json:   0%|          | 0.00/125 [00:00<?, ?B/s]"
      ]
     },
     "metadata": {},
     "output_type": "display_data"
    },
    {
     "data": {
      "text/plain": [
       "UpdateResult(operation_id=0, status=<UpdateStatus.COMPLETED: 'completed'>)"
      ]
     },
     "execution_count": 26,
     "metadata": {},
     "output_type": "execute_result"
    }
   ],
   "source": [
    "import requests \n",
    "\n",
    "from qdrant_client import QdrantClient, models\n",
    "\n",
    "EMBEDDING_DIMENSIONALITY = 384\n",
    "collection_name = 'zoomcamp-rag'\n",
    "\n",
    "client = QdrantClient(\"http://qdrant:6333\")\n",
    "if not client.get_collection(collection_name):\n",
    "    client.create_collection(\n",
    "        collection_name=collection_name,\n",
    "        vectors_config=models.VectorParams(\n",
    "            size=EMBEDDING_DIMENSIONALITY,\n",
    "            distance=models.Distance.COSINE\n",
    "        )\n",
    "    )\n",
    "\n",
    "docs_url = 'https://github.com/alexeygrigorev/llm-rag-workshop/raw/main/notebooks/documents.json'\n",
    "docs_response = requests.get(docs_url)\n",
    "documents_raw = docs_response.json()\n",
    "\n",
    "id = 0\n",
    "points = []\n",
    "model_handle = 'BAAI/bge-small-en'\n",
    "\n",
    "for course in documents_raw:\n",
    "    course_name = course['course']\n",
    "    if course_name != 'machine-learning-zoomcamp':\n",
    "        continue\n",
    "\n",
    "    for doc in course['documents']:\n",
    "        text = doc['question'] + ' ' + doc['text']\n",
    "        point = models.PointStruct(\n",
    "            id=id,\n",
    "            vector=models.Document(\n",
    "                text=text,\n",
    "                model=model_handle\n",
    "            ),\n",
    "            payload={\n",
    "                'text': text,\n",
    "                'section': doc['section'],\n",
    "                'course': course_name\n",
    "            }\n",
    "        )\n",
    "        points.append(point)\n",
    "\n",
    "        id +=1\n",
    "\n",
    "client.upsert(\n",
    "    collection_name=collection_name,\n",
    "    points=points\n",
    ")\n"
   ]
  },
  {
   "cell_type": "code",
   "execution_count": 34,
   "id": "55ee3d2f-2e13-4e05-ad3b-738989e57139",
   "metadata": {},
   "outputs": [
    {
     "ename": "TypeError",
     "evalue": "'QueryResponse' object is not subscriptable",
     "output_type": "error",
     "traceback": [
      "\u001b[0;31m---------------------------------------------------------------------------\u001b[0m",
      "\u001b[0;31mTypeError\u001b[0m                                 Traceback (most recent call last)",
      "Cell \u001b[0;32mIn[34], line 10\u001b[0m\n\u001b[1;32m      1\u001b[0m results \u001b[38;5;241m=\u001b[39m client\u001b[38;5;241m.\u001b[39mquery_points(\n\u001b[1;32m      2\u001b[0m     collection_name\u001b[38;5;241m=\u001b[39mcollection_name,\n\u001b[1;32m      3\u001b[0m     query\u001b[38;5;241m=\u001b[39mmodels\u001b[38;5;241m.\u001b[39mDocument(\n\u001b[0;32m   (...)\u001b[0m\n\u001b[1;32m      8\u001b[0m     with_payload\u001b[38;5;241m=\u001b[39m\u001b[38;5;28;01mTrue\u001b[39;00m\n\u001b[1;32m      9\u001b[0m )\n\u001b[0;32m---> 10\u001b[0m \u001b[38;5;28mprint\u001b[39m(\u001b[43mresults\u001b[49m\u001b[43m[\u001b[49m\u001b[38;5;241;43m0\u001b[39;49m\u001b[43m]\u001b[49m)\n",
      "\u001b[0;31mTypeError\u001b[0m: 'QueryResponse' object is not subscriptable"
     ]
    }
   ],
   "source": [
    "results = client.query_points(\n",
    "    collection_name=collection_name,\n",
    "    query=models.Document(\n",
    "        text='I just discovered the course. Can I join now?',\n",
    "        model=model_handle\n",
    "    ),\n",
    "    limit=1,\n",
    "    with_payload=True\n",
    ")\n",
    "print(results[0])"
   ]
  },
  {
   "cell_type": "code",
   "execution_count": null,
   "id": "b4dc54e7-30d2-41fd-8e94-cb21b31da326",
   "metadata": {},
   "outputs": [],
   "source": []
  }
 ],
 "metadata": {
  "kernelspec": {
   "display_name": "Python 3 (ipykernel)",
   "language": "python",
   "name": "python3"
  },
  "language_info": {
   "codemirror_mode": {
    "name": "ipython",
    "version": 3
   },
   "file_extension": ".py",
   "mimetype": "text/x-python",
   "name": "python",
   "nbconvert_exporter": "python",
   "pygments_lexer": "ipython3",
   "version": "3.10.11"
  }
 },
 "nbformat": 4,
 "nbformat_minor": 5
}
